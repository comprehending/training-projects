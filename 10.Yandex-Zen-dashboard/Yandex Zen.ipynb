{
 "cells": [
  {
   "cell_type": "markdown",
   "metadata": {},
   "source": [
    "## Выгрузка данных"
   ]
  },
  {
   "cell_type": "code",
   "execution_count": 1,
   "metadata": {},
   "outputs": [],
   "source": [
    "# импортируем необходимые библиотеки\n",
    "import pandas as pd\n",
    "from sqlalchemy import create_engine"
   ]
  },
  {
   "cell_type": "code",
   "execution_count": 2,
   "metadata": {},
   "outputs": [],
   "source": [
    "#зададим параметры подключения к БД\n",
    "db_config = {'user': NDA,\n",
    "             'pwd': NDA,\n",
    "             'host': NDA,\n",
    "             'port': NDA,\n",
    "             'db': NDA}\n",
    "#сформируем строку соединения с БД\n",
    "connection_string = 'postgresql://{}:{}@{}:{}/{}'.format(db_config['user'],\n",
    "                                                        db_config['pwd'],\n",
    "                                                        db_config['host'],\n",
    "                                                        db_config['port'],\n",
    "                                                        db_config['db'])\n",
    "#подключимся к БД\n",
    "engine = create_engine(connection_string)"
   ]
  },
  {
   "cell_type": "code",
   "execution_count": 3,
   "metadata": {},
   "outputs": [
    {
     "name": "stdout",
     "output_type": "stream",
     "text": [
      "          item_topic source_topic age_segment                  dt  visits\n",
      "record_id                                                                \n",
      "1040597       Деньги         Авто       18-25 2019-09-24 18:32:00       3\n",
      "1040598       Деньги         Авто       18-25 2019-09-24 18:35:00       1\n",
      "1040599       Деньги         Авто       18-25 2019-09-24 18:54:00       4\n",
      "1040600       Деньги         Авто       18-25 2019-09-24 18:55:00      17\n",
      "1040601       Деньги         Авто       18-25 2019-09-24 18:56:00      27\n"
     ]
    }
   ],
   "source": [
    "#сформируем sql-запрос\n",
    "query = '''\n",
    "            SELECT *\n",
    "            FROM dash_visits\n",
    "        '''\n",
    "#выполним запрос и сохраним результат выполнения в DataFrame\n",
    "dash_visits = pd.io.sql.read_sql(query, con = engine, index_col = 'record_id')\n",
    "#проверка\n",
    "print(dash_visits.head(5))"
   ]
  },
  {
   "cell_type": "code",
   "execution_count": 4,
   "metadata": {},
   "outputs": [],
   "source": [
    "#сохраним таблицу в формате csv для дальнейшей работы в Tableau\n",
    "dash_visits.to_csv('dash_visits.csv', index = False)"
   ]
  }
 ],
 "metadata": {
  "kernelspec": {
   "display_name": "Python 3",
   "language": "python",
   "name": "python3"
  },
  "language_info": {
   "codemirror_mode": {
    "name": "ipython",
    "version": 3
   },
   "file_extension": ".py",
   "mimetype": "text/x-python",
   "name": "python",
   "nbconvert_exporter": "python",
   "pygments_lexer": "ipython3",
   "version": "3.7.6"
  }
 },
 "nbformat": 4,
 "nbformat_minor": 4
}
